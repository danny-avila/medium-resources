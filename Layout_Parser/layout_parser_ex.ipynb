{
 "cells": [
  {
   "cell_type": "markdown",
   "id": "3b88065e-45e9-40ed-aa04-8dd7ec36e45c",
   "metadata": {},
   "source": [
    "# Install Dependencies"
   ]
  },
  {
   "cell_type": "markdown",
   "id": "8a68afad-3a7a-40c4-8d8b-84b00d35e72f",
   "metadata": {},
   "source": [
    "If you work with a Windows machine, it's better to try LayoutParser on Google Colab instead since it's tricky to install Detectron 2 on Windows machine"
   ]
  },
  {
   "cell_type": "code",
   "execution_count": null,
   "id": "85d97120-8613-464c-95e0-f06eb514b781",
   "metadata": {},
   "outputs": [],
   "source": [
    "%%capture\n",
    "!sudo apt-get install poppler-utils #pdf2image dependency -- restart runtime/kernel after installation\n",
    "!sudo apt-get install tesseract-ocr-eng #install Tesseract OCR Engine --restart runtime/kernel after installation"
   ]
  },
  {
   "cell_type": "code",
   "execution_count": null,
   "id": "27f229b0-b4c9-46ce-845e-d2cc4fe50eb6",
   "metadata": {},
   "outputs": [],
   "source": [
    "%%capture\n",
    "!pip install layoutparser torchvision && pip install \"detectron2@git+https://github.com/facebookresearch/detectron2.git@v0.5#egg=detectron2\"\n",
    "!pip install pdf2img\n",
    "!pip install \"layoutparser[ocr]\""
   ]
  },
  {
   "cell_type": "code",
   "execution_count": null,
   "id": "769c14cf-293e-46be-81e0-50ab7acba502",
   "metadata": {},
   "outputs": [],
   "source": [
    "import pdf2image\n",
    "import numpy as np\n",
    "import layoutparser as lp\n",
    "import torchvision.ops.boxes as bops\n",
    "import torch"
   ]
  },
  {
   "cell_type": "markdown",
   "id": "6decc0b6-15ab-4673-8266-8203d62c4cd0",
   "metadata": {},
   "source": [
    "# Layout Detection "
   ]
  },
  {
   "cell_type": "code",
   "execution_count": null,
   "id": "b7b8795f-89e7-4e13-9fea-bacb95a2fef6",
   "metadata": {},
   "outputs": [],
   "source": [
    "pdf_file= '/img/doc_1.pdf' # Adjust the filepath of your input image accordingly\n",
    "img = np.asarray(pdf2image.convert_from_path(pdf_file)[0])"
   ]
  },
  {
   "cell_type": "code",
   "execution_count": null,
   "id": "14b474a7-5ce0-4bfc-a6be-37f2d7705224",
   "metadata": {},
   "outputs": [],
   "source": [
    "model = lp.Detectron2LayoutModel('lp://PubLayNet/mask_rcnn_X_101_32x8d_FPN_3x/config',\n",
    "                                 extra_config=[\"MODEL.ROI_HEADS.SCORE_THRESH_TEST\", 0.5],\n",
    "                                 label_map={0: \"Text\", 1: \"Title\", 2: \"List\", 3:\"Table\", 4:\"Figure\"})\n",
    "\n",
    "layout_result = model.detect(img)\n",
    "\n",
    "lp.draw_box(img, layout_result,  box_width=5, box_alpha=0.2, show_element_type=True)"
   ]
  },
  {
   "cell_type": "code",
   "execution_count": null,
   "id": "038df22f-5b1c-454f-80de-9b2443c3a6f7",
   "metadata": {},
   "outputs": [],
   "source": [
    "text_blocks = lp.Layout([b for b in layout_result if b.type=='Text'])\n",
    "\n",
    "lp.draw_box(img, text_blocks,  box_width=5, box_alpha=0.2, show_element_type=True, show_element_id=True)"
   ]
  },
  {
   "cell_type": "markdown",
   "id": "a8c88c59-a3c9-4959-b4d8-f141b7e24670",
   "metadata": {},
   "source": [
    "# OCR Parser with Tesseract"
   ]
  },
  {
   "cell_type": "code",
   "execution_count": null,
   "id": "881b4809-60a4-4219-acd0-c4919ad25587",
   "metadata": {},
   "outputs": [],
   "source": [
    "ocr_agent = lp.TesseractAgent(languages='eng')"
   ]
  },
  {
   "cell_type": "code",
   "execution_count": null,
   "id": "bdaf8736-6168-40bc-a2de-e6b76d506336",
   "metadata": {},
   "outputs": [],
   "source": [
    "image_width = len(img[0])\n",
    "\n",
    "# Sort element ID of the left column based on y1 coordinate\n",
    "left_interval = lp.Interval(0, image_width/2, axis='x').put_on_canvas(img)\n",
    "left_blocks = text_blocks.filter_by(left_interval, center=True)._blocks\n",
    "left_blocks.sort(key = lambda b:b.coordinates[1])\n",
    "\n",
    "# Sort element ID of the right column based on y1 coordinate\n",
    "right_blocks = [b for b in text_blocks if b not in left_blocks]\n",
    "right_blocks.sort(key = lambda b:b.coordinates[1])\n",
    "\n",
    "# Sort the overall element ID starts from left column\n",
    "text_blocks = lp.Layout([b.set(id = idx) for idx, b in enumerate(left_blocks + right_blocks)])\n",
    "\n",
    "lp.draw_box(img, text_blocks,  box_width=5, box_alpha=0.2, show_element_type=True, show_element_id=True)"
   ]
  },
  {
   "cell_type": "code",
   "execution_count": null,
   "id": "db495dc8-4c21-4a99-bd26-c200de49a8f1",
   "metadata": {},
   "outputs": [],
   "source": [
    "for block in text_blocks:\n",
    "\n",
    "    # Crop image around the detected layout\n",
    "    segment_image = (block\n",
    "                       .pad(left=15, right=15, top=5, bottom=5)\n",
    "                       .crop_image(img))\n",
    "    \n",
    "    # Perform OCR\n",
    "    text = ocr_agent.detect(segment_image)\n",
    "\n",
    "    # Save OCR result\n",
    "    block.set(text=text, inplace=True)"
   ]
  },
  {
   "cell_type": "code",
   "execution_count": null,
   "id": "69ea88a0-bdb5-4952-8533-88172d4a3b85",
   "metadata": {},
   "outputs": [],
   "source": [
    "for txt in text_blocks:\n",
    "    print(txt.text, end='\\n---\\n')"
   ]
  },
  {
   "cell_type": "markdown",
   "id": "1a27c5fa-3af9-43d6-8023-8ab3426b691b",
   "metadata": {},
   "source": [
    "# Adjusting LayoutParser Result"
   ]
  },
  {
   "cell_type": "code",
   "execution_count": null,
   "id": "47ea2cff-6906-4821-8d85-09c45727a1b8",
   "metadata": {},
   "outputs": [],
   "source": [
    "pdf_file_2= '/img/doc_2.pdf' # Adjust the filepath of your input image accordingly\n",
    "img_2 = np.asarray(pdf2image.convert_from_path(pdf_file)[0])"
   ]
  },
  {
   "cell_type": "code",
   "execution_count": null,
   "id": "dc81a71c-91b0-4d8f-8b07-90be4f5ed67d",
   "metadata": {},
   "outputs": [],
   "source": [
    "layout_result_2 = model.detect(img_2)\n",
    "\n",
    "text_blocks_2 = lp.Layout([b for b in layout_result_2 if b.type=='Text'])\n",
    "\n",
    "lp.draw_box(img_2, text_blocks_2,  box_width=5, box_alpha=0.2, show_element_type=True, show_element_id=True)"
   ]
  },
  {
   "cell_type": "code",
   "execution_count": null,
   "id": "9d6f8412-6f1c-4b18-9bde-a69e6a939329",
   "metadata": {},
   "outputs": [],
   "source": [
    "def set_coordinate(data):\n",
    "\n",
    "  x1 = data.block.x_1\n",
    "  y1 = data.block.y_1\n",
    "  x2 = data.block.x_2\n",
    "  y2 = data.block.y_2\n",
    "\n",
    "  return torch.tensor([[x1, y1, x2, y2]], dtype=torch.float)\n",
    "\n",
    "def compute_iou(box_1, box_2):\n",
    "\n",
    "  return bops.box_iou(box_1, box_2)\n",
    "\n",
    "def compute_area(box):\n",
    "\n",
    "    width = box.tolist()[0][2] - box.tolist()[0][0]\n",
    "    length = box.tolist()[0][3] - box.tolist()[0][1]\n",
    "    area = width*length\n",
    "\n",
    "    return area\n",
    "\n",
    "def refine(block_1, block_2):\n",
    "\n",
    "  bb1 = set_coordinate(block_1)\n",
    "  bb2 = set_coordinate(block_2)\n",
    "\n",
    "  iou = compute_iou(bb1, bb2)\n",
    "\n",
    "  if iou.tolist()[0][0] != 0:\n",
    "\n",
    "    a1 = compute_area(bb1)\n",
    "    a2 = compute_area(bb2)\n",
    "\n",
    "    block_2.set(type='None', inplace= True) if a1 > a2 else block_1.set(type='None', inplace= True)\n",
    "    \n",
    "\n",
    "for layout_i in text_blocks_2:\n",
    "  \n",
    "    for layout_j in text_blocks_2:\n",
    "      \n",
    "        if layout_i != layout_j: \n",
    "\n",
    "            refine(layout_i, layout_j)\n",
    "            \n",
    "text_blocks_2 = lp.Layout([b for b in text_blocks_2 if b.type=='Text'])\n",
    "\n",
    "lp.draw_box(img_2, text_blocks_2,  box_width=5, box_alpha=0.2, show_element_type=True, show_element_id=True)"
   ]
  },
  {
   "cell_type": "code",
   "execution_count": null,
   "id": "6e28c664-4930-42f5-a107-edc5eb81a23a",
   "metadata": {},
   "outputs": [],
   "source": [
    "text_blocks_2 = lp.Layout([b.set(id = idx) for idx, b in enumerate(text_blocks_2)])\n",
    "\n",
    "# From the visualization, let's say we know that layout \n",
    "# with 'Diameter Thickness' text has element ID of 4\n",
    "\n",
    "text_blocks_2[4].set(type='None', inplace=True)\n",
    "text_blocks_2 = lp.Layout([b for b in text_blocks_2 if b.type=='Text'])\n",
    "\n",
    "lp.draw_box(img_2, text_blocks_2,  box_width=5, box_alpha=0.2, show_element_type=True, show_element_id=True)"
   ]
  }
 ],
 "metadata": {
  "kernelspec": {
   "display_name": "Python 3",
   "language": "python",
   "name": "python3"
  },
  "language_info": {
   "codemirror_mode": {
    "name": "ipython",
    "version": 3
   },
   "file_extension": ".py",
   "mimetype": "text/x-python",
   "name": "python",
   "nbconvert_exporter": "python",
   "pygments_lexer": "ipython3",
   "version": "3.8.8"
  }
 },
 "nbformat": 4,
 "nbformat_minor": 5
}
